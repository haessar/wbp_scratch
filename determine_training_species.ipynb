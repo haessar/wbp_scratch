{
 "cells": [
  {
   "cell_type": "code",
   "execution_count": 2,
   "metadata": {},
   "outputs": [],
   "source": [
    "import os.path\n",
    "import pandas as pd\n",
    "\n",
    "busco_stats_path = \"data/WBPS19_busco_stats.tsv\"\n",
    "outdir = \"data/helixer_training_species/\"\n",
    "\n",
    "full_df = pd.read_csv(busco_stats_path, delimiter=\"\\t\")\n",
    "\n",
    "# Take genus to be first part of species name\n",
    "full_df[\"genus\"] = full_df[\"genome\"].str.split(\"_\").apply(lambda x: x[0])"
   ]
  },
  {
   "cell_type": "markdown",
   "metadata": {},
   "source": [
    "A number of species failed pre-processing by GeenuFF, so sould be removed from contention"
   ]
  },
  {
   "cell_type": "code",
   "execution_count": 3,
   "metadata": {},
   "outputs": [],
   "source": [
    "with open(os.path.join(outdir, \"failed_set.txt\")) as f:\n",
    "    fail_set = f.read().splitlines()\n",
    "full_df = full_df[~full_df[\"genome\"].isin(fail_set)]"
   ]
  },
  {
   "cell_type": "markdown",
   "metadata": {},
   "source": [
    "Determinine candidates for rerunning Helixer/BRAKER on once a good model has been trained. These have the biggest difference in quality of assembly (generally good) vs quality of existing annotation (generally poor). If we were to take a species with a poor annotation but an equally poor assembly, we would understandably not gain much improved BUSCO scores regardless of the annotation tool we choose."
   ]
  },
  {
   "cell_type": "code",
   "execution_count": 4,
   "metadata": {},
   "outputs": [
    {
     "data": {
      "text/html": [
       "<div>\n",
       "<style scoped>\n",
       "    .dataframe tbody tr th:only-of-type {\n",
       "        vertical-align: middle;\n",
       "    }\n",
       "\n",
       "    .dataframe tbody tr th {\n",
       "        vertical-align: top;\n",
       "    }\n",
       "\n",
       "    .dataframe thead th {\n",
       "        text-align: right;\n",
       "    }\n",
       "</style>\n",
       "<table border=\"1\" class=\"dataframe\">\n",
       "  <thead>\n",
       "    <tr style=\"text-align: right;\">\n",
       "      <th></th>\n",
       "      <th>genome</th>\n",
       "      <th>C_as</th>\n",
       "      <th>C_an</th>\n",
       "      <th>C_diff</th>\n",
       "    </tr>\n",
       "  </thead>\n",
       "  <tbody>\n",
       "    <tr>\n",
       "      <th>106</th>\n",
       "      <td>heterorhabditis_bacteriophora_prjna13977</td>\n",
       "      <td>87.1</td>\n",
       "      <td>31.4</td>\n",
       "      <td>55.7</td>\n",
       "    </tr>\n",
       "    <tr>\n",
       "      <th>231</th>\n",
       "      <td>teladorsagia_circumcincta_prjna72569</td>\n",
       "      <td>71.8</td>\n",
       "      <td>38.4</td>\n",
       "      <td>33.4</td>\n",
       "    </tr>\n",
       "    <tr>\n",
       "      <th>5</th>\n",
       "      <td>ancylostoma_ceylanicum_prjna72583</td>\n",
       "      <td>87.2</td>\n",
       "      <td>58.9</td>\n",
       "      <td>28.3</td>\n",
       "    </tr>\n",
       "    <tr>\n",
       "      <th>86</th>\n",
       "      <td>globodera_pallida_prjna702104</td>\n",
       "      <td>59.5</td>\n",
       "      <td>38.6</td>\n",
       "      <td>20.9</td>\n",
       "    </tr>\n",
       "    <tr>\n",
       "      <th>8</th>\n",
       "      <td>angiostrongylus_cantonensis_prjna350391</td>\n",
       "      <td>83.6</td>\n",
       "      <td>67.4</td>\n",
       "      <td>16.2</td>\n",
       "    </tr>\n",
       "  </tbody>\n",
       "</table>\n",
       "</div>"
      ],
      "text/plain": [
       "                                       genome  C_as  C_an  C_diff\n",
       "106  heterorhabditis_bacteriophora_prjna13977  87.1  31.4    55.7\n",
       "231      teladorsagia_circumcincta_prjna72569  71.8  38.4    33.4\n",
       "5           ancylostoma_ceylanicum_prjna72583  87.2  58.9    28.3\n",
       "86              globodera_pallida_prjna702104  59.5  38.6    20.9\n",
       "8     angiostrongylus_cantonensis_prjna350391  83.6  67.4    16.2"
      ]
     },
     "execution_count": 4,
     "metadata": {},
     "output_type": "execute_result"
    }
   ],
   "source": [
    "full_df[\"C_diff\"] = full_df[\"C_as\"] - full_df[\"C_an\"]\n",
    "reann_set = full_df.sort_values(\"C_diff\", ascending=False).head(5)\n",
    "reann_set[\"genome\"].to_csv(os.path.join(outdir, \"reannotation_set.txt\"), sep=\"\\n\", index=False, header=False)\n",
    "reann_set[[\"genome\", \"C_as\", \"C_an\", \"C_diff\"]]"
   ]
  },
  {
   "cell_type": "markdown",
   "metadata": {},
   "source": [
    "For the training set and validation sets, we should ensure a minimum BUSCO Completeness of **60** (as a broad threshold), and that the species isn't already earmarked for reannotation."
   ]
  },
  {
   "cell_type": "code",
   "execution_count": 5,
   "metadata": {},
   "outputs": [],
   "source": [
    "df = full_df[(full_df[\"C_an\"] >= 60) & (~full_df[\"genome\"].isin(reann_set[\"genome\"]))]"
   ]
  },
  {
   "cell_type": "markdown",
   "metadata": {},
   "source": [
    "For training set, we'll pick one from each genus, prioritising the one with the highest annotation BUSCO Completeness"
   ]
  },
  {
   "cell_type": "code",
   "execution_count": 6,
   "metadata": {},
   "outputs": [
    {
     "data": {
      "text/html": [
       "<div>\n",
       "<style scoped>\n",
       "    .dataframe tbody tr th:only-of-type {\n",
       "        vertical-align: middle;\n",
       "    }\n",
       "\n",
       "    .dataframe tbody tr th {\n",
       "        vertical-align: top;\n",
       "    }\n",
       "\n",
       "    .dataframe thead th {\n",
       "        text-align: right;\n",
       "    }\n",
       "</style>\n",
       "<table border=\"1\" class=\"dataframe\">\n",
       "  <thead>\n",
       "    <tr style=\"text-align: right;\">\n",
       "      <th></th>\n",
       "      <th>genome</th>\n",
       "      <th>C_an</th>\n",
       "      <th>D_an</th>\n",
       "      <th>F_an</th>\n",
       "      <th>M_an</th>\n",
       "      <th>N_an</th>\n",
       "      <th>C_as</th>\n",
       "      <th>D_as</th>\n",
       "      <th>F_as</th>\n",
       "      <th>M_as</th>\n",
       "      <th>N_as</th>\n",
       "      <th>genus</th>\n",
       "      <th>C_diff</th>\n",
       "    </tr>\n",
       "  </thead>\n",
       "  <tbody>\n",
       "    <tr>\n",
       "      <th>34</th>\n",
       "      <td>caenorhabditis_briggsae_qx1410prjna784955</td>\n",
       "      <td>98.5</td>\n",
       "      <td>0.6</td>\n",
       "      <td>0.9</td>\n",
       "      <td>0.6</td>\n",
       "      <td>982</td>\n",
       "      <td>98.5</td>\n",
       "      <td>0.6</td>\n",
       "      <td>0.7</td>\n",
       "      <td>0.8</td>\n",
       "      <td>982</td>\n",
       "      <td>caenorhabditis</td>\n",
       "      <td>0.0</td>\n",
       "    </tr>\n",
       "    <tr>\n",
       "      <th>264</th>\n",
       "      <td>wuchereria_bancrofti_prjna275548</td>\n",
       "      <td>98.2</td>\n",
       "      <td>2.3</td>\n",
       "      <td>0.9</td>\n",
       "      <td>0.9</td>\n",
       "      <td>982</td>\n",
       "      <td>97.5</td>\n",
       "      <td>1.9</td>\n",
       "      <td>1.7</td>\n",
       "      <td>0.8</td>\n",
       "      <td>982</td>\n",
       "      <td>wuchereria</td>\n",
       "      <td>-0.7</td>\n",
       "    </tr>\n",
       "    <tr>\n",
       "      <th>117</th>\n",
       "      <td>loa_loa_prjna37757</td>\n",
       "      <td>96.3</td>\n",
       "      <td>0.7</td>\n",
       "      <td>3.7</td>\n",
       "      <td>0.0</td>\n",
       "      <td>982</td>\n",
       "      <td>96.0</td>\n",
       "      <td>0.7</td>\n",
       "      <td>3.7</td>\n",
       "      <td>0.3</td>\n",
       "      <td>982</td>\n",
       "      <td>loa</td>\n",
       "      <td>-0.3</td>\n",
       "    </tr>\n",
       "    <tr>\n",
       "      <th>52</th>\n",
       "      <td>cercopithifilaria_johnstoni_prjeb47283</td>\n",
       "      <td>95.9</td>\n",
       "      <td>0.7</td>\n",
       "      <td>2.3</td>\n",
       "      <td>1.8</td>\n",
       "      <td>982</td>\n",
       "      <td>94.4</td>\n",
       "      <td>0.8</td>\n",
       "      <td>4.2</td>\n",
       "      <td>1.4</td>\n",
       "      <td>982</td>\n",
       "      <td>cercopithifilaria</td>\n",
       "      <td>-1.5</td>\n",
       "    </tr>\n",
       "    <tr>\n",
       "      <th>62</th>\n",
       "      <td>diploscapter_coronatus_prjdb3143</td>\n",
       "      <td>94.4</td>\n",
       "      <td>88.9</td>\n",
       "      <td>3.6</td>\n",
       "      <td>2.0</td>\n",
       "      <td>982</td>\n",
       "      <td>91.5</td>\n",
       "      <td>67.9</td>\n",
       "      <td>4.6</td>\n",
       "      <td>3.9</td>\n",
       "      <td>982</td>\n",
       "      <td>diploscapter</td>\n",
       "      <td>-2.9</td>\n",
       "    </tr>\n",
       "  </tbody>\n",
       "</table>\n",
       "</div>"
      ],
      "text/plain": [
       "                                        genome  C_an  D_an  F_an  M_an  N_an  \\\n",
       "34   caenorhabditis_briggsae_qx1410prjna784955  98.5   0.6   0.9   0.6   982   \n",
       "264           wuchereria_bancrofti_prjna275548  98.2   2.3   0.9   0.9   982   \n",
       "117                         loa_loa_prjna37757  96.3   0.7   3.7   0.0   982   \n",
       "52      cercopithifilaria_johnstoni_prjeb47283  95.9   0.7   2.3   1.8   982   \n",
       "62            diploscapter_coronatus_prjdb3143  94.4  88.9   3.6   2.0   982   \n",
       "\n",
       "     C_as  D_as  F_as  M_as  N_as              genus  C_diff  \n",
       "34   98.5   0.6   0.7   0.8   982     caenorhabditis     0.0  \n",
       "264  97.5   1.9   1.7   0.8   982         wuchereria    -0.7  \n",
       "117  96.0   0.7   3.7   0.3   982                loa    -0.3  \n",
       "52   94.4   0.8   4.2   1.4   982  cercopithifilaria    -1.5  \n",
       "62   91.5  67.9   4.6   3.9   982       diploscapter    -2.9  "
      ]
     },
     "execution_count": 6,
     "metadata": {},
     "output_type": "execute_result"
    }
   ],
   "source": [
    "train_set = df.sort_values(\"C_an\", ascending=False).drop_duplicates(\"genus\")\n",
    "train_set[\"genome\"].sort_values().to_csv(os.path.join(outdir, \"training_set.txt\"), sep=\"\\n\", index=False, header=False)\n",
    "train_set.head(5)"
   ]
  },
  {
   "cell_type": "markdown",
   "metadata": {},
   "source": [
    "For validation set, we'll pick the second best species from each criteria, based on previous criteria."
   ]
  },
  {
   "cell_type": "code",
   "execution_count": 6,
   "metadata": {},
   "outputs": [
    {
     "name": "stderr",
     "output_type": "stream",
     "text": [
      "/tmp/ipykernel_9827/1398248434.py:1: UserWarning: Boolean Series key will be reindexed to match DataFrame index.\n",
      "  valid_set = df.sort_values(\"C_an\", ascending=False)[~df[\"genome\"].isin(train_set[\"genome\"])].drop_duplicates(\"genus\")\n"
     ]
    },
    {
     "data": {
      "text/html": [
       "<div>\n",
       "<style scoped>\n",
       "    .dataframe tbody tr th:only-of-type {\n",
       "        vertical-align: middle;\n",
       "    }\n",
       "\n",
       "    .dataframe tbody tr th {\n",
       "        vertical-align: top;\n",
       "    }\n",
       "\n",
       "    .dataframe thead th {\n",
       "        text-align: right;\n",
       "    }\n",
       "</style>\n",
       "<table border=\"1\" class=\"dataframe\">\n",
       "  <thead>\n",
       "    <tr style=\"text-align: right;\">\n",
       "      <th></th>\n",
       "      <th>genome</th>\n",
       "      <th>C_an</th>\n",
       "      <th>D_an</th>\n",
       "      <th>F_an</th>\n",
       "      <th>M_an</th>\n",
       "      <th>N_an</th>\n",
       "      <th>C_as</th>\n",
       "      <th>D_as</th>\n",
       "      <th>F_as</th>\n",
       "      <th>M_as</th>\n",
       "      <th>N_as</th>\n",
       "      <th>genus</th>\n",
       "      <th>C_diff</th>\n",
       "    </tr>\n",
       "  </thead>\n",
       "  <tbody>\n",
       "    <tr>\n",
       "      <th>51</th>\n",
       "      <td>caenorhabditis_zanzibari_prjeb12596</td>\n",
       "      <td>98.5</td>\n",
       "      <td>1.9</td>\n",
       "      <td>1.0</td>\n",
       "      <td>0.5</td>\n",
       "      <td>982</td>\n",
       "      <td>98.2</td>\n",
       "      <td>1.3</td>\n",
       "      <td>1.2</td>\n",
       "      <td>0.6</td>\n",
       "      <td>982</td>\n",
       "      <td>caenorhabditis</td>\n",
       "      <td>-0.3</td>\n",
       "    </tr>\n",
       "    <tr>\n",
       "      <th>116</th>\n",
       "      <td>loa_loa_prjna246086</td>\n",
       "      <td>94.7</td>\n",
       "      <td>1.3</td>\n",
       "      <td>3.5</td>\n",
       "      <td>1.8</td>\n",
       "      <td>982</td>\n",
       "      <td>97.5</td>\n",
       "      <td>1.3</td>\n",
       "      <td>2.0</td>\n",
       "      <td>0.5</td>\n",
       "      <td>982</td>\n",
       "      <td>loa</td>\n",
       "      <td>2.8</td>\n",
       "    </tr>\n",
       "    <tr>\n",
       "      <th>176</th>\n",
       "      <td>pristionchus_maxplancki_prjeb27334</td>\n",
       "      <td>93.5</td>\n",
       "      <td>13.4</td>\n",
       "      <td>4.2</td>\n",
       "      <td>2.3</td>\n",
       "      <td>982</td>\n",
       "      <td>90.6</td>\n",
       "      <td>9.4</td>\n",
       "      <td>5.5</td>\n",
       "      <td>3.9</td>\n",
       "      <td>982</td>\n",
       "      <td>pristionchus</td>\n",
       "      <td>-2.9</td>\n",
       "    </tr>\n",
       "    <tr>\n",
       "      <th>151</th>\n",
       "      <td>oscheius_tipulae_prjeb15512</td>\n",
       "      <td>89.8</td>\n",
       "      <td>3.4</td>\n",
       "      <td>5.7</td>\n",
       "      <td>4.5</td>\n",
       "      <td>982</td>\n",
       "      <td>89.4</td>\n",
       "      <td>3.0</td>\n",
       "      <td>3.2</td>\n",
       "      <td>7.4</td>\n",
       "      <td>982</td>\n",
       "      <td>oscheius</td>\n",
       "      <td>-0.4</td>\n",
       "    </tr>\n",
       "    <tr>\n",
       "      <th>249</th>\n",
       "      <td>trichinella_spiralis_prjna257433</td>\n",
       "      <td>88.9</td>\n",
       "      <td>3.0</td>\n",
       "      <td>5.7</td>\n",
       "      <td>5.4</td>\n",
       "      <td>982</td>\n",
       "      <td>89.7</td>\n",
       "      <td>2.3</td>\n",
       "      <td>7.1</td>\n",
       "      <td>3.2</td>\n",
       "      <td>982</td>\n",
       "      <td>trichinella</td>\n",
       "      <td>0.8</td>\n",
       "    </tr>\n",
       "  </tbody>\n",
       "</table>\n",
       "</div>"
      ],
      "text/plain": [
       "                                  genome  C_an  D_an  F_an  M_an  N_an  C_as  \\\n",
       "51   caenorhabditis_zanzibari_prjeb12596  98.5   1.9   1.0   0.5   982  98.2   \n",
       "116                  loa_loa_prjna246086  94.7   1.3   3.5   1.8   982  97.5   \n",
       "176   pristionchus_maxplancki_prjeb27334  93.5  13.4   4.2   2.3   982  90.6   \n",
       "151          oscheius_tipulae_prjeb15512  89.8   3.4   5.7   4.5   982  89.4   \n",
       "249     trichinella_spiralis_prjna257433  88.9   3.0   5.7   5.4   982  89.7   \n",
       "\n",
       "     D_as  F_as  M_as  N_as           genus  C_diff  \n",
       "51    1.3   1.2   0.6   982  caenorhabditis    -0.3  \n",
       "116   1.3   2.0   0.5   982             loa     2.8  \n",
       "176   9.4   5.5   3.9   982    pristionchus    -2.9  \n",
       "151   3.0   3.2   7.4   982        oscheius    -0.4  \n",
       "249   2.3   7.1   3.2   982     trichinella     0.8  "
      ]
     },
     "execution_count": 6,
     "metadata": {},
     "output_type": "execute_result"
    }
   ],
   "source": [
    "valid_set = df.sort_values(\"C_an\", ascending=False)[~df[\"genome\"].isin(train_set[\"genome\"])].drop_duplicates(\"genus\")\n",
    "valid_set[\"genome\"].sort_values().to_csv(os.path.join(outdir, \"validation_set.txt\"), sep=\"\\n\", index=False, header=False)\n",
    "valid_set.head(5)"
   ]
  },
  {
   "cell_type": "code",
   "execution_count": 7,
   "metadata": {},
   "outputs": [
    {
     "name": "stdout",
     "output_type": "stream",
     "text": [
      "Total species:\t\t\t263\n",
      "Species in...\n",
      "\treannotation set:\t5\n",
      "\ttraining set:\t\t84\n",
      "\tvalidation set:\t\t40\n"
     ]
    }
   ],
   "source": [
    "print(\"Total species:\\t\\t\\t{}\".format(len(full_df)))\n",
    "print(\"Species in...\")\n",
    "print(\"\\treannotation set:\\t{}\".format(len(reann_set)))\n",
    "print(\"\\ttraining set:\\t\\t{}\".format(len(train_set)))\n",
    "print(\"\\tvalidation set:\\t\\t{}\".format(len(valid_set)))"
   ]
  },
  {
   "cell_type": "markdown",
   "metadata": {},
   "source": [
    "### Top 40 Training Set"
   ]
  },
  {
   "cell_type": "code",
   "execution_count": 15,
   "metadata": {},
   "outputs": [],
   "source": [
    "train_set_40 = train_set.head(40)\n",
    "train_set_40[\"genome\"].sort_values().to_csv(os.path.join(outdir, \"training_set_top40.txt\"), sep=\"\\n\", index=False, header=False)"
   ]
  },
  {
   "cell_type": "markdown",
   "metadata": {},
   "source": [
    "We'll rebuild the validation set now that more species will be available after being filtered from the training set"
   ]
  },
  {
   "cell_type": "code",
   "execution_count": 16,
   "metadata": {},
   "outputs": [
    {
     "name": "stderr",
     "output_type": "stream",
     "text": [
      "/tmp/ipykernel_9827/3457853504.py:1: UserWarning: Boolean Series key will be reindexed to match DataFrame index.\n",
      "  valid_set_40 = df.sort_values(\"C_an\", ascending=False)[~df[\"genome\"].isin(train_set_40[\"genome\"])].drop_duplicates(\"genus\")\n"
     ]
    }
   ],
   "source": [
    "valid_set_40 = df.sort_values(\"C_an\", ascending=False)[~df[\"genome\"].isin(train_set_40[\"genome\"])].drop_duplicates(\"genus\")\n",
    "valid_set_40[\"genome\"].sort_values().to_csv(os.path.join(outdir, \"validation_set_top40.txt\"), sep=\"\\n\", index=False, header=False)"
   ]
  },
  {
   "cell_type": "code",
   "execution_count": 17,
   "metadata": {},
   "outputs": [
    {
     "name": "stdout",
     "output_type": "stream",
     "text": [
      "Species in...\n",
      "\ttraining set:\t\t40\n",
      "\tvalidation set:\t\t67\n"
     ]
    }
   ],
   "source": [
    "print(\"Species in...\")\n",
    "print(\"\\ttraining set:\\t\\t{}\".format(len(train_set_40)))\n",
    "print(\"\\tvalidation set:\\t\\t{}\".format(len(valid_set_40)))"
   ]
  },
  {
   "cell_type": "markdown",
   "metadata": {},
   "source": [
    "### Mixed quality training and validation"
   ]
  },
  {
   "cell_type": "code",
   "execution_count": 22,
   "metadata": {},
   "outputs": [
    {
     "data": {
      "text/plain": [
       "<Axes: ylabel='Frequency'>"
      ]
     },
     "execution_count": 22,
     "metadata": {},
     "output_type": "execute_result"
    },
    {
     "data": {
      "image/png": "[encoded data removed]",
      "text/plain": [
       "<Figure size 640x480 with 1 Axes>"
      ]
     },
     "metadata": {},
     "output_type": "display_data"
    }
   ],
   "source": [
    "df.sort_values(\"C_an\", ascending=False).drop_duplicates(\"genus\")[\"C_an\"].plot(kind=\"hist\", bins=20)"
   ]
  },
  {
   "cell_type": "code",
   "execution_count": 41,
   "metadata": {},
   "outputs": [],
   "source": [
    "df_pool = df.sort_values(\"C_an\", ascending=False).drop_duplicates(\"genus\")\n",
    "sample_size = round(len(df_pool) / 2)\n",
    "train_set_mix = df_pool.sample(sample_size)\n",
    "valid_set_mix = df_pool[~df_pool[\"genome\"].isin(train_set_mix[\"genome\"])]"
   ]
  },
  {
   "cell_type": "code",
   "execution_count": 42,
   "metadata": {},
   "outputs": [
    {
     "data": {
      "text/plain": [
       "<Axes: ylabel='Frequency'>"
      ]
     },
     "execution_count": 42,
     "metadata": {},
     "output_type": "execute_result"
    },
    {
     "data": {
      "image/png": "[encoded data removed]",
      "text/plain": [
       "<Figure size 640x480 with 1 Axes>"
      ]
     },
     "metadata": {},
     "output_type": "display_data"
    }
   ],
   "source": [
    "valid_set_mix[\"C_an\"].plot(kind=\"hist\", bins=20)\n",
    "train_set_mix[\"C_an\"].plot(kind=\"hist\", bins=20)"
   ]
  },
  {
   "cell_type": "code",
   "execution_count": 43,
   "metadata": {},
   "outputs": [],
   "source": [
    "train_set_mix[\"genome\"].sort_values().to_csv(os.path.join(outdir, \"training_set_mixed.txt\"), sep=\"\\n\", index=False, header=False)\n",
    "valid_set_mix[\"genome\"].sort_values().to_csv(os.path.join(outdir, \"validation_set_mixed.txt\"), sep=\"\\n\", index=False, header=False)"
   ]
  },
  {
   "cell_type": "code",
   "execution_count": 44,
   "metadata": {},
   "outputs": [
    {
     "name": "stdout",
     "output_type": "stream",
     "text": [
      "Species in...\n",
      "\ttraining set:\t\t42\n",
      "\tvalidation set:\t\t42\n"
     ]
    }
   ],
   "source": [
    "print(\"Species in...\")\n",
    "print(\"\\ttraining set:\\t\\t{}\".format(len(train_set_mix)))\n",
    "print(\"\\tvalidation set:\\t\\t{}\".format(len(valid_set_mix)))"
   ]
  },
  {
   "cell_type": "markdown",
   "metadata": {},
   "source": [
    "### High Quality Training Set"
   ]
  },
  {
   "cell_type": "markdown",
   "metadata": {},
   "source": [
    "Let us filter  the training set so that BUSCO Annotation Completeness is >= 75"
   ]
  },
  {
   "cell_type": "code",
   "execution_count": 10,
   "metadata": {},
   "outputs": [
    {
     "data": {
      "text/plain": [
       "66"
      ]
     },
     "execution_count": 10,
     "metadata": {},
     "output_type": "execute_result"
    }
   ],
   "source": [
    "train_set_hq = train_set[train_set[\"C_an\"] >= 75]\n",
    "train_set_hq[\"genome\"].sort_values().to_csv(os.path.join(outdir, \"training_set_hq.txt\"), sep=\"\\n\", index=False, header=False)"
   ]
  },
  {
   "cell_type": "markdown",
   "metadata": {},
   "source": [
    "We'll rebuild the validation set now that more species will be available after being filtered from the training set"
   ]
  },
  {
   "cell_type": "code",
   "execution_count": 11,
   "metadata": {},
   "outputs": [
    {
     "name": "stderr",
     "output_type": "stream",
     "text": [
      "/tmp/ipykernel_95164/452821630.py:1: UserWarning: Boolean Series key will be reindexed to match DataFrame index.\n",
      "  valid_set_hq = df.sort_values(\"C_an\", ascending=False)[~df[\"genome\"].isin(train_set_hq[\"genome\"])].drop_duplicates(\"genus\")\n"
     ]
    }
   ],
   "source": [
    "valid_set_hq = df.sort_values(\"C_an\", ascending=False)[~df[\"genome\"].isin(train_set_hq[\"genome\"])].drop_duplicates(\"genus\")\n",
    "valid_set_hq[\"genome\"].sort_values().to_csv(os.path.join(outdir, \"validation_set_hq.txt\"), sep=\"\\n\", index=False, header=False)"
   ]
  },
  {
   "cell_type": "code",
   "execution_count": 12,
   "metadata": {},
   "outputs": [
    {
     "name": "stdout",
     "output_type": "stream",
     "text": [
      "Species in...\n",
      "\ttraining set:\t\t66\n",
      "\tvalidation set:\t\t55\n"
     ]
    }
   ],
   "source": [
    "print(\"Species in...\")\n",
    "print(\"\\ttraining set:\\t\\t{}\".format(len(train_set_hq)))\n",
    "print(\"\\tvalidation set:\\t\\t{}\".format(len(valid_set_hq)))"
   ]
  }
 ],
 "metadata": {
  "kernelspec": {
   "display_name": ".venv",
   "language": "python",
   "name": "python3"
  },
  "language_info": {
   "codemirror_mode": {
    "name": "ipython",
    "version": 3
   },
   "file_extension": ".py",
   "mimetype": "text/x-python",
   "name": "python",
   "nbconvert_exporter": "python",
   "pygments_lexer": "ipython3",
   "version": "3.10.12"
  }
 },
 "nbformat": 4,
 "nbformat_minor": 2
}
