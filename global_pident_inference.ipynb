{
 "cells": [
  {
   "cell_type": "code",
   "execution_count": 9,
   "metadata": {},
   "outputs": [],
   "source": [
    "import os.path\n",
    "\n",
    "import matplotlib\n",
    "import matplotlib.pyplot as plt\n",
    "from minineedle import needle\n",
    "import pandas as pd\n",
    "from tqdm import tqdm\n",
    "\n",
    "from analysis.orthogroups import (\n",
    "    HaematobiumClade,\n",
    "    init_SEQUENCE_ID_map,\n",
    ")\n",
    "\n",
    "matplotlib.use('TkAgg')\n",
    "\n",
    "WD_PATH = \"data/from_MARS/OrthoFinder/Results_May10/WorkingDirectory/\"\n",
    "\n",
    "\n",
    "def do_needle(seqs):\n",
    "    alg = needle.NeedlemanWunsch(*seqs)\n",
    "    alg.align()\n",
    "    return alg.get_identity()\n",
    "\n",
    "\n",
    "seq_id_map = init_SEQUENCE_ID_map(WD_PATH)\n",
    "inv_seq_id_map = {v: k for k, v in seq_id_map.items()}\n",
    "\n",
    "sp0 = HaematobiumClade(\"bovis\", \"TD2_PRJEB44434\")\n",
    "sp1 = HaematobiumClade(\"curassoni\", \"PRJEB44434\")\n",
    "\n",
    "BLASTOUT = pd.read_csv(\n",
    "    os.path.join(WD_PATH, \"Blast0_1.txt\"),\n",
    "    names=(\"qseqid\", \"sseqid\", \"pident\", \"length\", \"mismatch\", \"gapopen\", \"qstart\", \"qend\",\n",
    "                \"sstart\", \"send\", \"evalue\", \"bitscore\"),\n",
    "    delimiter=\"\\t\"\n",
    ")"
   ]
  },
  {
   "cell_type": "markdown",
   "metadata": {},
   "source": [
    "\"Infered\" global alignment identity formula"
   ]
  },
  {
   "cell_type": "code",
   "execution_count": 27,
   "metadata": {},
   "outputs": [],
   "source": [
    "def infer_global_pident(row, *lens):\n",
    "    # return min(lens) / max(lens) * 100\n",
    "    return row[\"length\"] / max(lens) * 100"
   ]
  },
  {
   "cell_type": "markdown",
   "metadata": {},
   "source": [
    "#### Criteria\n"
   ]
  },
  {
   "cell_type": "code",
   "execution_count": 4,
   "metadata": {},
   "outputs": [],
   "source": [
    "MIN_BLAST_PIDENT = 100\n",
    "MAX_PROT_LENGTH = 100\n",
    "MAX_TEST_PIDENT = 90"
   ]
  },
  {
   "cell_type": "markdown",
   "metadata": {},
   "source": [
    "#### Calculate residuals"
   ]
  },
  {
   "cell_type": "code",
   "execution_count": 28,
   "metadata": {},
   "outputs": [
    {
     "name": "stderr",
     "output_type": "stream",
     "text": [
      "100%|██████████| 4184/4184 [01:32<00:00, 45.14it/s]\n"
     ]
    }
   ],
   "source": [
    "df = BLASTOUT[BLASTOUT[\"pident\"] >= MIN_BLAST_PIDENT]\n",
    "residuals = []\n",
    "observed = []\n",
    "for idx, row in tqdm(df.iterrows(), total=len(df)):\n",
    "    tid0 = inv_seq_id_map[row[\"qseqid\"]]\n",
    "    tid1 = inv_seq_id_map[row[\"sseqid\"]]\n",
    "    seqs = [sp0.get_protein_sequence(tid0), sp1.get_protein_sequence(tid1)]\n",
    "    len0, len1 = map(len, seqs)\n",
    "    est_glob_pid = infer_global_pident(row, len0, len1)\n",
    "    if est_glob_pid < MAX_TEST_PIDENT and max(len0, len1) < MAX_PROT_LENGTH:\n",
    "        glob_pid = do_needle(seqs)\n",
    "        res = glob_pid - est_glob_pid\n",
    "        residuals.append(res)\n",
    "        observed.append(glob_pid)"
   ]
  },
  {
   "cell_type": "markdown",
   "metadata": {},
   "source": [
    "#### Plot residuals"
   ]
  },
  {
   "cell_type": "code",
   "execution_count": 19,
   "metadata": {},
   "outputs": [],
   "source": [
    "plot_path = f\"plots/residual_la{MIN_BLAST_PIDENT}_ga{MAX_TEST_PIDENT}_pl{MAX_PROT_LENGTH}.png\"\n",
    "plt.scatter(observed, residuals)\n",
    "plt.yticks(range(-50, 50, 10))\n",
    "plt.ylim(-50, 50)\n",
    "plt.grid()\n",
    "plt.xlabel(\"Predicted global pident\")\n",
    "plt.ylabel(\"Residuals\")\n",
    "plt.axhline(y=0, color='r', linestyle='--')\n",
    "plt.suptitle(\"Residual plot\", fontsize=18)\n",
    "plt.title(f'min BLAST pident: {MIN_BLAST_PIDENT}; max \"infered\" pident: {MAX_TEST_PIDENT}; max protein length: {MAX_PROT_LENGTH}',\n",
    "             fontsize=11)\n",
    "plt.savefig(plot_path)\n",
    "plt.show()"
   ]
  }
 ],
 "metadata": {
  "kernelspec": {
   "display_name": ".venv",
   "language": "python",
   "name": "python3"
  },
  "language_info": {
   "codemirror_mode": {
    "name": "ipython",
    "version": 3
   },
   "file_extension": ".py",
   "mimetype": "text/x-python",
   "name": "python",
   "nbconvert_exporter": "python",
   "pygments_lexer": "ipython3",
   "version": "3.10.12"
  }
 },
 "nbformat": 4,
 "nbformat_minor": 2
}
