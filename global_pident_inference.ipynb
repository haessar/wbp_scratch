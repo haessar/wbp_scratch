{
 "cells": [
  {
   "cell_type": "code",
   "execution_count": 65,
   "metadata": {},
   "outputs": [],
   "source": [
    "import os.path\n",
    "\n",
    "import matplotlib\n",
    "import matplotlib.pyplot as plt\n",
    "from minineedle import needle\n",
    "import pandas as pd\n",
    "from tqdm import tqdm\n",
    "\n",
    "from analysis.orthogroups import (\n",
    "    HaematobiumClade,\n",
    "    init_SEQUENCE_ID_map,\n",
    ")\n",
    "\n",
    "matplotlib.use('TkAgg')\n",
    "\n",
    "WD_PATH = \"data/from_MARS/OrthoFinder/Results_May10/WorkingDirectory/\"\n",
    "\n",
    "\n",
    "def do_needle(seqs):\n",
    "    alg = needle.NeedlemanWunsch(*seqs)\n",
    "    alg.align()\n",
    "    return alg.get_identity()\n",
    "\n",
    "\n",
    "seq_id_map = init_SEQUENCE_ID_map(WD_PATH)\n",
    "inv_seq_id_map = {v: k for k, v in seq_id_map.items()}\n",
    "\n",
    "sp0 = HaematobiumClade(\"bovis\", \"TD2_PRJEB44434\")\n",
    "sp1 = HaematobiumClade(\"curassoni\", \"PRJEB44434\")\n",
    "\n",
    "BLASTOUT = pd.read_csv(\n",
    "    os.path.join(WD_PATH, \"Blast0_1.txt\"),\n",
    "    names=(\"qseqid\", \"sseqid\", \"pident\", \"length\", \"mismatch\", \"gapopen\", \"qstart\", \"qend\",\n",
    "                \"sstart\", \"send\", \"evalue\", \"bitscore\"),\n",
    "    delimiter=\"\\t\"\n",
    ")"
   ]
  },
  {
   "cell_type": "markdown",
   "metadata": {},
   "source": [
    "Select only one transcript pairing per gene, ordered by \"pident\" and \"bitscore\" to favour good local alignments."
   ]
  },
  {
   "cell_type": "code",
   "execution_count": 67,
   "metadata": {},
   "outputs": [],
   "source": [
    "df = BLASTOUT.copy()\n",
    "df[\"qgenid\"] = df[\"qseqid\"].map(inv_seq_id_map).str.split(\".\").apply(lambda x: x[0].strip())\n",
    "df[\"sgenid\"] = df[\"sseqid\"].map(inv_seq_id_map).str.split(\".\").apply(lambda x: x[0].strip())\n",
    "BLASTOUT = df.sort_values([\"pident\", \"bitscore\"], ascending=False).drop_duplicates([\"qgenid\", \"sgenid\"]).sort_index()"
   ]
  },
  {
   "cell_type": "markdown",
   "metadata": {},
   "source": [
    "\"Infered\" global alignment identity formula"
   ]
  },
  {
   "cell_type": "code",
   "execution_count": 3,
   "metadata": {},
   "outputs": [],
   "source": [
    "def infer_global_pident(row, *lens):\n",
    "    # return min(lens) / max(lens) * 100\n",
    "    return row[\"length\"] / max(lens) * 100"
   ]
  },
  {
   "cell_type": "markdown",
   "metadata": {},
   "source": [
    "#### Criteria\n"
   ]
  },
  {
   "cell_type": "code",
   "execution_count": 110,
   "metadata": {},
   "outputs": [],
   "source": [
    "MIN_BLAST_PIDENT = 90\n",
    "MAX_TEST_PIDENT = 100\n",
    "MAX_PROT_LENGTH = 1200"
   ]
  },
  {
   "cell_type": "markdown",
   "metadata": {},
   "source": [
    "#### Calculate residuals"
   ]
  },
  {
   "cell_type": "code",
   "execution_count": 111,
   "metadata": {},
   "outputs": [
    {
     "name": "stderr",
     "output_type": "stream",
     "text": [
      "100%|██████████| 11556/11556 [24:22<00:00,  7.90it/s] \n"
     ]
    }
   ],
   "source": [
    "df = BLASTOUT[BLASTOUT[\"pident\"] >= MIN_BLAST_PIDENT]\n",
    "residuals = []\n",
    "observed = []\n",
    "col_grads = []\n",
    "for idx, row in tqdm(df.iterrows(), total=len(df)):\n",
    "    tid0 = inv_seq_id_map[row[\"qseqid\"]]\n",
    "    tid1 = inv_seq_id_map[row[\"sseqid\"]]\n",
    "    seqs = [sp0.get_protein_sequence(tid0), sp1.get_protein_sequence(tid1)]\n",
    "    len0, len1 = map(len, seqs)\n",
    "    est_glob_pid = infer_global_pident(row, len0, len1)\n",
    "    if est_glob_pid <= MAX_TEST_PIDENT and max(len0, len1) <= MAX_PROT_LENGTH:\n",
    "        glob_pid = do_needle(seqs)\n",
    "        res = glob_pid - est_glob_pid\n",
    "        residuals.append(res)\n",
    "        observed.append(glob_pid)\n",
    "        col_grads.append(row[\"pident\"])"
   ]
  },
  {
   "cell_type": "markdown",
   "metadata": {},
   "source": [
    "#### Plot residuals"
   ]
  },
  {
   "cell_type": "code",
   "execution_count": 112,
   "metadata": {},
   "outputs": [],
   "source": [
    "plot_path = f\"plots/global_pident_residuals/residual_la{MIN_BLAST_PIDENT}_ga{MAX_TEST_PIDENT}_pl{MAX_PROT_LENGTH}.png\"\n",
    "fig = plt.figure()\n",
    "plt.scatter(observed, residuals, c=col_grads, s=10)\n",
    "plt.copper()\n",
    "plt.yticks(range(-50, 50, 10))\n",
    "plt.ylim(-50, 50)\n",
    "plt.grid()\n",
    "plt.xlabel(\"Predicted global pident\")\n",
    "plt.ylabel(\"Residuals\")\n",
    "plt.axhline(y=0, color='r', linestyle='--')\n",
    "fig.suptitle(\"Residual plot\", fontsize=16)\n",
    "fig.text(0.5, 0.9, f'min BLAST pident: {MIN_BLAST_PIDENT}; max \"infered\" pident: {MAX_TEST_PIDENT}; max protein length: {MAX_PROT_LENGTH}',\n",
    "         fontsize=11, horizontalalignment=\"center\")\n",
    "plt.title(f\"{round(len([r for r in residuals if abs(r) <= 10])/len(residuals) * 100, 2)}% within \\u00B110%\")\n",
    "plt.subplots_adjust(top=0.8, bottom=0.2)\n",
    "plt.colorbar(label=\"BLAST pident\")\n",
    "plt.savefig(plot_path)\n",
    "plt.show()"
   ]
  }
 ],
 "metadata": {
  "kernelspec": {
   "display_name": ".venv",
   "language": "python",
   "name": "python3"
  },
  "language_info": {
   "codemirror_mode": {
    "name": "ipython",
    "version": 3
   },
   "file_extension": ".py",
   "mimetype": "text/x-python",
   "name": "python",
   "nbconvert_exporter": "python",
   "pygments_lexer": "ipython3",
   "version": "3.10.12"
  }
 },
 "nbformat": 4,
 "nbformat_minor": 2
}
